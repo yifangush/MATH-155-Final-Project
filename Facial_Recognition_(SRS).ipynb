{
  "cells": [
    {
      "cell_type": "code",
      "execution_count": 396,
      "metadata": {
        "id": "Kuw3XZEvn1AF"
      },
      "outputs": [],
      "source": [
        "from sklearn.datasets import fetch_lfw_people\n",
        "import matplotlib.pyplot as plt\n",
        "import matplotlib.cm as cm\n",
        "import numpy as np\n",
        "import random\n",
        "import time\n",
        "np.random.seed(42)\n",
        "random.seed(42)\n",
        "from sklearn.model_selection import train_test_split"
      ]
    },
    {
      "cell_type": "code",
      "execution_count": 397,
      "metadata": {
        "id": "RIE_UkC3VGYy"
      },
      "outputs": [],
      "source": [
        "class face:\n",
        "  def __init__(self, ID, pixels):\n",
        "    self.ID = ID # each face has an ID corresponding to the individual\n",
        "    self.pixels = pixels # face is represented by pixels\n",
        "class person:\n",
        "  def __init__(self, ID, faces, omega):\n",
        "    self.ID = ID\n",
        "    self.faces = faces\n",
        "    self.omega = omega # class vector"
      ]
    },
    {
      "cell_type": "code",
      "execution_count": 398,
      "metadata": {
        "id": "MjTdUG0sc3QN"
      },
      "outputs": [],
      "source": [
        "lfw_people = fetch_lfw_people(min_faces_per_person=70, resize=0.4)\n",
        "X = lfw_people.data # individuals\n",
        "for x in X:\n",
        "  n = np.linalg.norm(x)\n",
        "  x /= n\n",
        "y = lfw_people.target # IDs"
      ]
    },
    {
      "cell_type": "code",
      "execution_count": 399,
      "metadata": {
        "id": "vNKMuhwEeHUi"
      },
      "outputs": [],
      "source": [
        "# sampling randomly\n",
        "sample_faces, test_faces, sample_ids, test_ids = train_test_split(X, y, test_size=0.2, random_state=42)"
      ]
    },
    {
      "cell_type": "code",
      "execution_count": 400,
      "metadata": {
        "colab": {
          "base_uri": "https://localhost:8080/"
        },
        "id": "LQ2WRfF0BgM2",
        "outputId": "6b100998-ce2f-4666-b435-52ea87e65329"
      },
      "outputs": [
        {
          "data": {
            "text/plain": [
              "1030"
            ]
          },
          "execution_count": 400,
          "metadata": {},
          "output_type": "execute_result"
        }
      ],
      "source": [
        "len(sample_faces)"
      ]
    },
    {
      "cell_type": "code",
      "execution_count": 401,
      "metadata": {
        "colab": {
          "base_uri": "https://localhost:8080/",
          "height": 330
        },
        "id": "DqjByKB2Iz7T",
        "outputId": "ebfcb18f-f1ca-4bf0-ed27-9885ef1f3d0f"
      },
      "outputs": [
        {
          "data": {
            "text/html": [
              "\n",
              "  <div id=\"df-c6338cd9-b610-4f22-a1ed-39746bd4255f\">\n",
              "    <div class=\"colab-df-container\">\n",
              "      <div>\n",
              "<style scoped>\n",
              "    .dataframe tbody tr th:only-of-type {\n",
              "        vertical-align: middle;\n",
              "    }\n",
              "\n",
              "    .dataframe tbody tr th {\n",
              "        vertical-align: top;\n",
              "    }\n",
              "\n",
              "    .dataframe thead th {\n",
              "        text-align: right;\n",
              "    }\n",
              "</style>\n",
              "<table border=\"1\" class=\"dataframe\">\n",
              "  <thead>\n",
              "    <tr style=\"text-align: right;\">\n",
              "      <th></th>\n",
              "      <th>0</th>\n",
              "      <th>1</th>\n",
              "      <th>2</th>\n",
              "      <th>3</th>\n",
              "      <th>4</th>\n",
              "      <th>5</th>\n",
              "      <th>6</th>\n",
              "      <th>7</th>\n",
              "      <th>8</th>\n",
              "      <th>9</th>\n",
              "      <th>...</th>\n",
              "      <th>1840</th>\n",
              "      <th>1841</th>\n",
              "      <th>1842</th>\n",
              "      <th>1843</th>\n",
              "      <th>1844</th>\n",
              "      <th>1845</th>\n",
              "      <th>1846</th>\n",
              "      <th>1847</th>\n",
              "      <th>1848</th>\n",
              "      <th>1849</th>\n",
              "    </tr>\n",
              "    <tr>\n",
              "      <th>target</th>\n",
              "      <th></th>\n",
              "      <th></th>\n",
              "      <th></th>\n",
              "      <th></th>\n",
              "      <th></th>\n",
              "      <th></th>\n",
              "      <th></th>\n",
              "      <th></th>\n",
              "      <th></th>\n",
              "      <th></th>\n",
              "      <th></th>\n",
              "      <th></th>\n",
              "      <th></th>\n",
              "      <th></th>\n",
              "      <th></th>\n",
              "      <th></th>\n",
              "      <th></th>\n",
              "      <th></th>\n",
              "      <th></th>\n",
              "      <th></th>\n",
              "      <th></th>\n",
              "    </tr>\n",
              "  </thead>\n",
              "  <tbody>\n",
              "    <tr>\n",
              "      <th>0</th>\n",
              "      <td>66</td>\n",
              "      <td>66</td>\n",
              "      <td>66</td>\n",
              "      <td>66</td>\n",
              "      <td>66</td>\n",
              "      <td>66</td>\n",
              "      <td>66</td>\n",
              "      <td>66</td>\n",
              "      <td>66</td>\n",
              "      <td>66</td>\n",
              "      <td>...</td>\n",
              "      <td>66</td>\n",
              "      <td>66</td>\n",
              "      <td>66</td>\n",
              "      <td>66</td>\n",
              "      <td>66</td>\n",
              "      <td>66</td>\n",
              "      <td>66</td>\n",
              "      <td>66</td>\n",
              "      <td>66</td>\n",
              "      <td>66</td>\n",
              "    </tr>\n",
              "    <tr>\n",
              "      <th>1</th>\n",
              "      <td>189</td>\n",
              "      <td>189</td>\n",
              "      <td>189</td>\n",
              "      <td>189</td>\n",
              "      <td>189</td>\n",
              "      <td>189</td>\n",
              "      <td>189</td>\n",
              "      <td>189</td>\n",
              "      <td>189</td>\n",
              "      <td>189</td>\n",
              "      <td>...</td>\n",
              "      <td>189</td>\n",
              "      <td>189</td>\n",
              "      <td>189</td>\n",
              "      <td>189</td>\n",
              "      <td>189</td>\n",
              "      <td>189</td>\n",
              "      <td>189</td>\n",
              "      <td>189</td>\n",
              "      <td>189</td>\n",
              "      <td>189</td>\n",
              "    </tr>\n",
              "    <tr>\n",
              "      <th>2</th>\n",
              "      <td>99</td>\n",
              "      <td>99</td>\n",
              "      <td>99</td>\n",
              "      <td>99</td>\n",
              "      <td>99</td>\n",
              "      <td>99</td>\n",
              "      <td>99</td>\n",
              "      <td>99</td>\n",
              "      <td>99</td>\n",
              "      <td>99</td>\n",
              "      <td>...</td>\n",
              "      <td>99</td>\n",
              "      <td>99</td>\n",
              "      <td>99</td>\n",
              "      <td>99</td>\n",
              "      <td>99</td>\n",
              "      <td>99</td>\n",
              "      <td>99</td>\n",
              "      <td>99</td>\n",
              "      <td>99</td>\n",
              "      <td>99</td>\n",
              "    </tr>\n",
              "    <tr>\n",
              "      <th>3</th>\n",
              "      <td>411</td>\n",
              "      <td>411</td>\n",
              "      <td>411</td>\n",
              "      <td>411</td>\n",
              "      <td>411</td>\n",
              "      <td>411</td>\n",
              "      <td>411</td>\n",
              "      <td>411</td>\n",
              "      <td>411</td>\n",
              "      <td>411</td>\n",
              "      <td>...</td>\n",
              "      <td>411</td>\n",
              "      <td>411</td>\n",
              "      <td>411</td>\n",
              "      <td>411</td>\n",
              "      <td>411</td>\n",
              "      <td>411</td>\n",
              "      <td>411</td>\n",
              "      <td>411</td>\n",
              "      <td>411</td>\n",
              "      <td>411</td>\n",
              "    </tr>\n",
              "    <tr>\n",
              "      <th>4</th>\n",
              "      <td>90</td>\n",
              "      <td>90</td>\n",
              "      <td>90</td>\n",
              "      <td>90</td>\n",
              "      <td>90</td>\n",
              "      <td>90</td>\n",
              "      <td>90</td>\n",
              "      <td>90</td>\n",
              "      <td>90</td>\n",
              "      <td>90</td>\n",
              "      <td>...</td>\n",
              "      <td>90</td>\n",
              "      <td>90</td>\n",
              "      <td>90</td>\n",
              "      <td>90</td>\n",
              "      <td>90</td>\n",
              "      <td>90</td>\n",
              "      <td>90</td>\n",
              "      <td>90</td>\n",
              "      <td>90</td>\n",
              "      <td>90</td>\n",
              "    </tr>\n",
              "    <tr>\n",
              "      <th>5</th>\n",
              "      <td>58</td>\n",
              "      <td>58</td>\n",
              "      <td>58</td>\n",
              "      <td>58</td>\n",
              "      <td>58</td>\n",
              "      <td>58</td>\n",
              "      <td>58</td>\n",
              "      <td>58</td>\n",
              "      <td>58</td>\n",
              "      <td>58</td>\n",
              "      <td>...</td>\n",
              "      <td>58</td>\n",
              "      <td>58</td>\n",
              "      <td>58</td>\n",
              "      <td>58</td>\n",
              "      <td>58</td>\n",
              "      <td>58</td>\n",
              "      <td>58</td>\n",
              "      <td>58</td>\n",
              "      <td>58</td>\n",
              "      <td>58</td>\n",
              "    </tr>\n",
              "    <tr>\n",
              "      <th>6</th>\n",
              "      <td>117</td>\n",
              "      <td>117</td>\n",
              "      <td>117</td>\n",
              "      <td>117</td>\n",
              "      <td>117</td>\n",
              "      <td>117</td>\n",
              "      <td>117</td>\n",
              "      <td>117</td>\n",
              "      <td>117</td>\n",
              "      <td>117</td>\n",
              "      <td>...</td>\n",
              "      <td>117</td>\n",
              "      <td>117</td>\n",
              "      <td>117</td>\n",
              "      <td>117</td>\n",
              "      <td>117</td>\n",
              "      <td>117</td>\n",
              "      <td>117</td>\n",
              "      <td>117</td>\n",
              "      <td>117</td>\n",
              "      <td>117</td>\n",
              "    </tr>\n",
              "  </tbody>\n",
              "</table>\n",
              "<p>7 rows × 1850 columns</p>\n",
              "</div>\n",
              "      <button class=\"colab-df-convert\" onclick=\"convertToInteractive('df-c6338cd9-b610-4f22-a1ed-39746bd4255f')\"\n",
              "              title=\"Convert this dataframe to an interactive table.\"\n",
              "              style=\"display:none;\">\n",
              "        \n",
              "  <svg xmlns=\"http://www.w3.org/2000/svg\" height=\"24px\"viewBox=\"0 0 24 24\"\n",
              "       width=\"24px\">\n",
              "    <path d=\"M0 0h24v24H0V0z\" fill=\"none\"/>\n",
              "    <path d=\"M18.56 5.44l.94 2.06.94-2.06 2.06-.94-2.06-.94-.94-2.06-.94 2.06-2.06.94zm-11 1L8.5 8.5l.94-2.06 2.06-.94-2.06-.94L8.5 2.5l-.94 2.06-2.06.94zm10 10l.94 2.06.94-2.06 2.06-.94-2.06-.94-.94-2.06-.94 2.06-2.06.94z\"/><path d=\"M17.41 7.96l-1.37-1.37c-.4-.4-.92-.59-1.43-.59-.52 0-1.04.2-1.43.59L10.3 9.45l-7.72 7.72c-.78.78-.78 2.05 0 2.83L4 21.41c.39.39.9.59 1.41.59.51 0 1.02-.2 1.41-.59l7.78-7.78 2.81-2.81c.8-.78.8-2.07 0-2.86zM5.41 20L4 18.59l7.72-7.72 1.47 1.35L5.41 20z\"/>\n",
              "  </svg>\n",
              "      </button>\n",
              "      \n",
              "  <style>\n",
              "    .colab-df-container {\n",
              "      display:flex;\n",
              "      flex-wrap:wrap;\n",
              "      gap: 12px;\n",
              "    }\n",
              "\n",
              "    .colab-df-convert {\n",
              "      background-color: #E8F0FE;\n",
              "      border: none;\n",
              "      border-radius: 50%;\n",
              "      cursor: pointer;\n",
              "      display: none;\n",
              "      fill: #1967D2;\n",
              "      height: 32px;\n",
              "      padding: 0 0 0 0;\n",
              "      width: 32px;\n",
              "    }\n",
              "\n",
              "    .colab-df-convert:hover {\n",
              "      background-color: #E2EBFA;\n",
              "      box-shadow: 0px 1px 2px rgba(60, 64, 67, 0.3), 0px 1px 3px 1px rgba(60, 64, 67, 0.15);\n",
              "      fill: #174EA6;\n",
              "    }\n",
              "\n",
              "    [theme=dark] .colab-df-convert {\n",
              "      background-color: #3B4455;\n",
              "      fill: #D2E3FC;\n",
              "    }\n",
              "\n",
              "    [theme=dark] .colab-df-convert:hover {\n",
              "      background-color: #434B5C;\n",
              "      box-shadow: 0px 1px 3px 1px rgba(0, 0, 0, 0.15);\n",
              "      filter: drop-shadow(0px 1px 2px rgba(0, 0, 0, 0.3));\n",
              "      fill: #FFFFFF;\n",
              "    }\n",
              "  </style>\n",
              "\n",
              "      <script>\n",
              "        const buttonEl =\n",
              "          document.querySelector('#df-c6338cd9-b610-4f22-a1ed-39746bd4255f button.colab-df-convert');\n",
              "        buttonEl.style.display =\n",
              "          google.colab.kernel.accessAllowed ? 'block' : 'none';\n",
              "\n",
              "        async function convertToInteractive(key) {\n",
              "          const element = document.querySelector('#df-c6338cd9-b610-4f22-a1ed-39746bd4255f');\n",
              "          const dataTable =\n",
              "            await google.colab.kernel.invokeFunction('convertToInteractive',\n",
              "                                                     [key], {});\n",
              "          if (!dataTable) return;\n",
              "\n",
              "          const docLinkHtml = 'Like what you see? Visit the ' +\n",
              "            '<a target=\"_blank\" href=https://colab.research.google.com/notebooks/data_table.ipynb>data table notebook</a>'\n",
              "            + ' to learn more about interactive tables.';\n",
              "          element.innerHTML = '';\n",
              "          dataTable['output_type'] = 'display_data';\n",
              "          await google.colab.output.renderOutput(dataTable, element);\n",
              "          const docLink = document.createElement('div');\n",
              "          docLink.innerHTML = docLinkHtml;\n",
              "          element.appendChild(docLink);\n",
              "        }\n",
              "      </script>\n",
              "    </div>\n",
              "  </div>\n",
              "  "
            ],
            "text/plain": [
              "        0     1     2     3     4     5     6     7     8     9     ...  1840  \\\n",
              "target                                                              ...         \n",
              "0         66    66    66    66    66    66    66    66    66    66  ...    66   \n",
              "1        189   189   189   189   189   189   189   189   189   189  ...   189   \n",
              "2         99    99    99    99    99    99    99    99    99    99  ...    99   \n",
              "3        411   411   411   411   411   411   411   411   411   411  ...   411   \n",
              "4         90    90    90    90    90    90    90    90    90    90  ...    90   \n",
              "5         58    58    58    58    58    58    58    58    58    58  ...    58   \n",
              "6        117   117   117   117   117   117   117   117   117   117  ...   117   \n",
              "\n",
              "        1841  1842  1843  1844  1845  1846  1847  1848  1849  \n",
              "target                                                        \n",
              "0         66    66    66    66    66    66    66    66    66  \n",
              "1        189   189   189   189   189   189   189   189   189  \n",
              "2         99    99    99    99    99    99    99    99    99  \n",
              "3        411   411   411   411   411   411   411   411   411  \n",
              "4         90    90    90    90    90    90    90    90    90  \n",
              "5         58    58    58    58    58    58    58    58    58  \n",
              "6        117   117   117   117   117   117   117   117   117  \n",
              "\n",
              "[7 rows x 1850 columns]"
            ]
          },
          "execution_count": 401,
          "metadata": {},
          "output_type": "execute_result"
        }
      ],
      "source": [
        "import pandas as pd\n",
        "df = pd.DataFrame(sample_faces)\n",
        "df['target'] = sample_ids\n",
        "\n",
        "sampled_df = df.groupby('target').count()\n",
        "sampled_df"
      ]
    },
    {
      "cell_type": "code",
      "execution_count": 417,
      "metadata": {
        "colab": {
          "base_uri": "https://localhost:8080/"
        },
        "id": "dr2nXRsBJktp",
        "outputId": "60aedd86-f1f4-4e02-ca82-efbb75e342e1"
      },
      "outputs": [
        {
          "name": "stdout",
          "output_type": "stream",
          "text": [
            "117\n"
          ]
        }
      ],
      "source": [
        "tot = 0\n",
        "for i in sample_ids:\n",
        "  if i == 6:\n",
        "    tot += 1\n",
        "print(tot)"
      ]
    },
    {
      "cell_type": "code",
      "execution_count": 402,
      "metadata": {
        "colab": {
          "base_uri": "https://localhost:8080/"
        },
        "id": "R03q3JTh4rV6",
        "outputId": "c911f6dc-c93f-4238-8df1-873ba157d1b9"
      },
      "outputs": [
        {
          "data": {
            "text/plain": [
              "array([0, 1, 2, 3, 4, 5, 6])"
            ]
          },
          "execution_count": 402,
          "metadata": {},
          "output_type": "execute_result"
        }
      ],
      "source": [
        "np.unique(sample_ids)"
      ]
    },
    {
      "cell_type": "code",
      "execution_count": 403,
      "metadata": {
        "colab": {
          "base_uri": "https://localhost:8080/"
        },
        "id": "H-FdTFIRKGNl",
        "outputId": "b399e9f3-f5d0-40cd-d621-b5deb002b283"
      },
      "outputs": [
        {
          "name": "stdout",
          "output_type": "stream",
          "text": [
            "['Ariel Sharon' 'Colin Powell' 'Donald Rumsfeld' 'George W Bush'\n",
            " 'Gerhard Schroeder' 'Hugo Chavez' 'Tony Blair']\n"
          ]
        }
      ],
      "source": [
        "j = lfw_people.target_names\n",
        "print(j)"
      ]
    },
    {
      "cell_type": "code",
      "execution_count": 404,
      "metadata": {
        "colab": {
          "base_uri": "https://localhost:8080/",
          "height": 1000
        },
        "id": "7NbuvdleqNi5",
        "outputId": "c8f9a0a8-0ac2-4329-e1fe-fb33d8ae02cd"
      },
      "outputs": [
        {
          "data": {
            "image/png": "[encoded data removed]",
            "text/plain": [
              "<Figure size 640x480 with 1 Axes>"
            ]
          },
          "metadata": {},
          "output_type": "display_data"
        },
        {
          "data": {
            "image/png": "[encoded data removed]",
            "text/plain": [
              "<Figure size 640x480 with 1 Axes>"
            ]
          },
          "metadata": {},
          "output_type": "display_data"
        },
        {
          "data": {
            "image/png": "[encoded data removed]",
            "text/plain": [
              "<Figure size 640x480 with 1 Axes>"
            ]
          },
          "metadata": {},
          "output_type": "display_data"
        },
        {
          "data": {
            "image/png": "[encoded data removed]",
            "text/plain": [
              "<Figure size 640x480 with 1 Axes>"
            ]
          },
          "metadata": {},
          "output_type": "display_data"
        },
        {
          "data": {
            "image/png": "[encoded data removed]",
            "text/plain": [
              "<Figure size 640x480 with 1 Axes>"
            ]
          },
          "metadata": {},
          "output_type": "display_data"
        },
        {
          "data": {
            "image/png": "[encoded data removed]",
            "text/plain": [
              "<Figure size 640x480 with 1 Axes>"
            ]
          },
          "metadata": {},
          "output_type": "display_data"
        }
      ],
      "source": [
        "# calculate eigenfaces\n",
        "M1 = len(sample_faces)\n",
        "N = sample_faces.shape[1]\n",
        "m_face = np.mean(sample_faces, axis=0) # mean face\n",
        "fig = m_face.reshape((50,37))\n",
        "plt.imshow(fig, cmap=cm.gray)\n",
        "plt.show()\n",
        "N = sample_faces.shape[1]\n",
        "# compute matrix L\n",
        "Phi = np.zeros(sample_faces.shape)\n",
        "for i in range(M1):\n",
        "  Phi[i,:] = m_face\n",
        "AT = sample_faces - Phi\n",
        "A = np.transpose(AT)\n",
        "# we use SVD here\n",
        "w, s, vh = np.linalg.svd(A)\n",
        "M3 = 300\n",
        "eigvals = np.square(s[0:M3]) / M1\n",
        "eigvecs = np.transpose(w[:,0:M3])\n",
        "# form eigenfaces\n",
        "for eigface in eigvecs:\n",
        "  eigface_norm = np.linalg.norm(eigface)\n",
        "  eigface /= eigface_norm\n",
        "for eigface in eigvecs[:5]:\n",
        "  fig = eigface.reshape((50,37))\n",
        "  plt.imshow(fig, cmap=cm.gray)\n",
        "  plt.show()"
      ]
    },
    {
      "cell_type": "code",
      "execution_count": 405,
      "metadata": {
        "id": "CiouPwHWf0oP"
      },
      "outputs": [],
      "source": [
        "# calculate class vectors\n",
        "all_people = []\n",
        "z = np.zeros(M1)\n",
        "for i in range(M1):\n",
        "  if z[i] == 0:\n",
        "    f = [face(sample_ids[i], sample_faces[i])]\n",
        "    P = person(sample_ids[i], f, [])\n",
        "    ID = sample_ids[i]\n",
        "    for j in range(i+1, M1):\n",
        "      if ID == sample_ids[j]:\n",
        "        P.faces.append(face(sample_ids[j], sample_faces[j]))\n",
        "        z[j] = 1\n",
        "    all_people.append(P)\n",
        "for P in all_people:\n",
        "  omega = np.zeros(M3)\n",
        "  for face in P.faces:\n",
        "    for k in range(M3):\n",
        "      omega[k] = omega[k] + np.matmul(eigvecs[k], face.pixels-m_face)\n",
        "  omega = omega / len(P.faces)\n",
        "  P.omega = omega / np.linalg.norm(omega)"
      ]
    },
    {
      "cell_type": "code",
      "execution_count": 406,
      "metadata": {
        "colab": {
          "base_uri": "https://localhost:8080/"
        },
        "id": "rq701fksETku",
        "outputId": "7a4f60ca-7bbc-4a89-d776-cd667a333966"
      },
      "outputs": [
        {
          "name": "stdout",
          "output_type": "stream",
          "text": [
            "0 th person is 6 6\n",
            "1 th person is 2 2\n",
            "2 th person is 3 3\n",
            "3 th person is 1 1\n",
            "4 th person is 4 4\n",
            "5 th person is 0 0\n",
            "6 th person is 5 5\n"
          ]
        }
      ],
      "source": [
        "for i, p in enumerate(all_people):\n",
        "  print(i, \"th person is\", p.ID, p.faces[10].ID)"
      ]
    },
    {
      "cell_type": "code",
      "execution_count": 407,
      "metadata": {
        "id": "eDcka_RaWaQq"
      },
      "outputs": [],
      "source": [
        "# classify unknown faces\n",
        "# calculate omegas\n",
        "unknown_omegas = []\n",
        "for face in test_faces:\n",
        "  omega = np.zeros(M3)\n",
        "  for k in range(M3):\n",
        "    omega[k] = np.matmul(eigvecs[k], face-m_face)\n",
        "  unknown_omegas.append(omega / np.linalg.norm(omega))"
      ]
    },
    {
      "cell_type": "code",
      "execution_count": 408,
      "metadata": {
        "colab": {
          "base_uri": "https://localhost:8080/"
        },
        "id": "qCduRQfAXoXS",
        "outputId": "45934ad6-6db5-4287-abef-9f6d848b508b"
      },
      "outputs": [
        {
          "name": "stdout",
          "output_type": "stream",
          "text": [
            "3\n"
          ]
        }
      ],
      "source": [
        "# calculate distances between omegas\n",
        "correct = 0\n",
        "c = []\n",
        "pred = []\n",
        "for i in range(len(unknown_omegas)):\n",
        "  u = unknown_omegas[i].flatten()\n",
        "  dist = []\n",
        "  for P in all_people:\n",
        "    d = np.linalg.norm(u-P.omega.flatten())\n",
        "    dist.append(d)\n",
        "  d_min = np.amin(dist)\n",
        "  d_argmin = np.argmin(dist)\n",
        "  pred.append(all_people[d_argmin].ID)\n",
        "  if all_people[d_argmin].ID == test_ids[i]:\n",
        "    correct = correct + 1\n",
        "    c.append(i)\n",
        "  if i == 184:\n",
        "    print(all_people[d_argmin].ID)\n",
        "accuracy = correct / len(unknown_omegas)"
      ]
    },
    {
      "cell_type": "code",
      "execution_count": 409,
      "metadata": {
        "colab": {
          "base_uri": "https://localhost:8080/"
        },
        "id": "cgBy8_QxF-zg",
        "outputId": "edcaa5c8-36cd-479e-8bf7-b21c849d46c9"
      },
      "outputs": [
        {
          "data": {
            "text/plain": [
              "(130, 258)"
            ]
          },
          "execution_count": 409,
          "metadata": {},
          "output_type": "execute_result"
        }
      ],
      "source": [
        "correct, len(unknown_omegas)"
      ]
    },
    {
      "cell_type": "code",
      "execution_count": 410,
      "metadata": {
        "colab": {
          "base_uri": "https://localhost:8080/"
        },
        "id": "mwmfB0W84YOD",
        "outputId": "7623f8de-e018-4483-ee42-54eb7aa38d9b"
      },
      "outputs": [
        {
          "name": "stdout",
          "output_type": "stream",
          "text": [
            "0.5038759689922481\n",
            "[0, 1, 2, 4, 8, 10, 12, 14, 15, 18, 19, 20, 23, 24, 25, 27, 28, 30, 33, 35, 36, 38, 40, 41, 42, 44, 47, 50, 51, 53, 54, 55, 56, 59, 62, 63, 65, 67, 69, 71, 73, 74, 75, 78, 81, 82, 87, 89, 90, 91, 92, 94, 96, 97, 99, 102, 106, 107, 110, 114, 119, 120, 121, 122, 123, 124, 125, 127, 130, 131, 132, 137, 140, 143, 144, 147, 149, 151, 154, 157, 160, 162, 163, 164, 166, 167, 169, 171, 174, 177, 178, 180, 181, 182, 184, 185, 186, 188, 189, 190, 191, 193, 194, 198, 199, 201, 202, 203, 205, 207, 211, 212, 213, 216, 218, 219, 226, 227, 229, 232, 233, 234, 241, 242, 244, 245, 248, 250, 251, 257]\n"
          ]
        }
      ],
      "source": [
        "print(accuracy)\n",
        "print(c)"
      ]
    },
    {
      "cell_type": "code",
      "execution_count": 411,
      "metadata": {
        "colab": {
          "base_uri": "https://localhost:8080/"
        },
        "id": "fbDWHD-QDi1N",
        "outputId": "fbc9a29b-cd0c-4373-b2ec-7075f1415488"
      },
      "outputs": [
        {
          "data": {
            "text/plain": [
              "True"
            ]
          },
          "execution_count": 411,
          "metadata": {},
          "output_type": "execute_result"
        }
      ],
      "source": [
        "len(pred) == len(test_ids)"
      ]
    },
    {
      "cell_type": "code",
      "execution_count": 412,
      "metadata": {
        "colab": {
          "base_uri": "https://localhost:8080/"
        },
        "id": "vUdApR2CHB40",
        "outputId": "af8689d0-ab96-418d-9a80-33a65f9cb9c1"
      },
      "outputs": [
        {
          "name": "stdout",
          "output_type": "stream",
          "text": [
            "Info for Ariel Sharon (ids = 0 )\n",
            "7\n",
            "11\n",
            "ratio 0.6363636363636364\n",
            "Info for Colin Powell (ids = 1 )\n",
            "20\n",
            "47\n",
            "ratio 0.425531914893617\n",
            "Info for Donald Rumsfeld (ids = 2 )\n",
            "14\n",
            "22\n",
            "ratio 0.6363636363636364\n",
            "Info for George W Bush (ids = 3 )\n",
            "64\n",
            "119\n",
            "ratio 0.5378151260504201\n",
            "Info for Gerhard Schroeder (ids = 4 )\n",
            "9\n",
            "19\n",
            "ratio 0.47368421052631576\n",
            "Info for Hugo Chavez (ids = 5 )\n",
            "5\n",
            "13\n",
            "ratio 0.38461538461538464\n",
            "Info for Tony Blair (ids = 6 )\n",
            "11\n",
            "27\n",
            "ratio 0.4074074074074074\n"
          ]
        }
      ],
      "source": [
        "for i, name in enumerate(lfw_people.target_names):\n",
        "  print(\"Info for\", name, \"(ids =\", i, \")\")\n",
        "  correctLabel = 0\n",
        "  total = 0\n",
        "  for t in test_ids:\n",
        "    if t == i:\n",
        "      total += 1\n",
        "  for id in c:\n",
        "    if test_ids[id] == i:\n",
        "      correctLabel += 1\n",
        "  print(correctLabel)\n",
        "  print(total)\n",
        "  print(\"ratio\", correctLabel/total)\n"
      ]
    },
    {
      "cell_type": "code",
      "execution_count": 414,
      "metadata": {
        "colab": {
          "base_uri": "https://localhost:8080/",
          "height": 486
        },
        "id": "dMYXdZhxXDqJ",
        "outputId": "d3993dbb-95bd-453f-f1b6-c5d664f55787"
      },
      "outputs": [
        {
          "data": {
            "image/png": "[encoded data removed]",
            "text/plain": [
              "<Figure size 640x480 with 1 Axes>"
            ]
          },
          "metadata": {},
          "output_type": "display_data"
        },
        {
          "name": "stdout",
          "output_type": "stream",
          "text": [
            "['Ariel Sharon' 'Colin Powell' 'Donald Rumsfeld' 'George W Bush'\n",
            " 'Gerhard Schroeder' 'Hugo Chavez' 'Tony Blair']\n",
            "3\n"
          ]
        }
      ],
      "source": [
        "f = test_faces[184]\n",
        "fig = f.reshape((50,37))\n",
        "plt.imshow(fig, cmap=cm.gray)\n",
        "plt.show()\n",
        "j = lfw_people.target_names\n",
        "print(j)\n",
        "print(test_ids[184])"
      ]
    }
  ],
  "metadata": {
    "colab": {
      "provenance": []
    },
    "kernelspec": {
      "display_name": "Python 3",
      "name": "python3"
    },
    "language_info": {
      "name": "python"
    }
  },
  "nbformat": 4,
  "nbformat_minor": 0
}
