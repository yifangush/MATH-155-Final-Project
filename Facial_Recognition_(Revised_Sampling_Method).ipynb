{
  "nbformat": 4,
  "nbformat_minor": 0,
  "metadata": {
    "colab": {
      "provenance": []
    },
    "kernelspec": {
      "name": "python3",
      "display_name": "Python 3"
    },
    "language_info": {
      "name": "python"
    }
  },
  "cells": [
    {
      "cell_type": "code",
      "execution_count": 1,
      "metadata": {
        "id": "Kuw3XZEvn1AF"
      },
      "outputs": [],
      "source": [
        "from sklearn.datasets import fetch_lfw_people\n",
        "import matplotlib.pyplot as plt\n",
        "import matplotlib.cm as cm\n",
        "import numpy as np\n",
        "import random\n",
        "import time\n",
        "np.random.seed(42)\n",
        "random.seed(42)\n",
        "from sklearn.model_selection import train_test_split\n",
        "import pandas as pd"
      ]
    },
    {
      "cell_type": "code",
      "source": [
        "class face:\n",
        "  def __init__(self, ID, pixels):\n",
        "    self.ID = ID # each face has an ID corresponding to the individual\n",
        "    self.pixels = pixels # face is represented by pixels\n",
        "class person:\n",
        "  def __init__(self, ID, faces, omega):\n",
        "    self.ID = ID\n",
        "    self.faces = faces\n",
        "    self.omega = omega # class vector"
      ],
      "metadata": {
        "id": "RIE_UkC3VGYy"
      },
      "execution_count": 2,
      "outputs": []
    },
    {
      "cell_type": "code",
      "source": [
        "lfw_people = fetch_lfw_people(min_faces_per_person=70, resize=0.4)\n",
        "X = lfw_people.data # individuals\n",
        "for x in X:\n",
        "  n = np.linalg.norm(x)\n",
        "  x /= n\n",
        "y = lfw_people.target # IDs"
      ],
      "metadata": {
        "id": "MjTdUG0sc3QN"
      },
      "execution_count": 3,
      "outputs": []
    },
    {
      "cell_type": "code",
      "source": [
        "# sampling randomly\n",
        "sample_faces, test_faces, sample_ids, test_ids = train_test_split(X, y, test_size=0.2, random_state=42)"
      ],
      "metadata": {
        "id": "vNKMuhwEeHUi"
      },
      "execution_count": 4,
      "outputs": []
    },
    {
      "cell_type": "code",
      "source": [
        "len(sample_faces)"
      ],
      "metadata": {
        "colab": {
          "base_uri": "https://localhost:8080/"
        },
        "id": "ZFMKwO4vSsCA",
        "outputId": "8d5c3378-150f-42a4-a0de-9721e8a2f4e8"
      },
      "execution_count": 5,
      "outputs": [
        {
          "output_type": "execute_result",
          "data": {
            "text/plain": [
              "1030"
            ]
          },
          "metadata": {},
          "execution_count": 5
        }
      ]
    },
    {
      "cell_type": "code",
      "source": [
        "number_of_people = np.unique(sample_ids)"
      ],
      "metadata": {
        "id": "IGEMXLncPWeD"
      },
      "execution_count": 6,
      "outputs": []
    },
    {
      "cell_type": "code",
      "source": [
        "import pandas as pd\n",
        "df = pd.DataFrame(sample_faces)\n",
        "df['target'] = sample_ids\n",
        "\n",
        "sampled_df = df.groupby('target').count()\n",
        "sampled_df"
      ],
      "metadata": {
        "colab": {
          "base_uri": "https://localhost:8080/",
          "height": 330
        },
        "id": "BhibmiJ8MZRH",
        "outputId": "49a4f829-2554-4616-b65f-331b5698f357"
      },
      "execution_count": 7,
      "outputs": [
        {
          "output_type": "execute_result",
          "data": {
            "text/plain": [
              "        0     1     2     3     4     5     6     7     8     9     ...  1840  \\\n",
              "target                                                              ...         \n",
              "0         66    66    66    66    66    66    66    66    66    66  ...    66   \n",
              "1        189   189   189   189   189   189   189   189   189   189  ...   189   \n",
              "2         99    99    99    99    99    99    99    99    99    99  ...    99   \n",
              "3        411   411   411   411   411   411   411   411   411   411  ...   411   \n",
              "4         90    90    90    90    90    90    90    90    90    90  ...    90   \n",
              "5         58    58    58    58    58    58    58    58    58    58  ...    58   \n",
              "6        117   117   117   117   117   117   117   117   117   117  ...   117   \n",
              "\n",
              "        1841  1842  1843  1844  1845  1846  1847  1848  1849  \n",
              "target                                                        \n",
              "0         66    66    66    66    66    66    66    66    66  \n",
              "1        189   189   189   189   189   189   189   189   189  \n",
              "2         99    99    99    99    99    99    99    99    99  \n",
              "3        411   411   411   411   411   411   411   411   411  \n",
              "4         90    90    90    90    90    90    90    90    90  \n",
              "5         58    58    58    58    58    58    58    58    58  \n",
              "6        117   117   117   117   117   117   117   117   117  \n",
              "\n",
              "[7 rows x 1850 columns]"
            ],
            "text/html": [
              "\n",
              "  <div id=\"df-d5b8f744-84cc-40c0-add5-268c577a9d42\">\n",
              "    <div class=\"colab-df-container\">\n",
              "      <div>\n",
              "<style scoped>\n",
              "    .dataframe tbody tr th:only-of-type {\n",
              "        vertical-align: middle;\n",
              "    }\n",
              "\n",
              "    .dataframe tbody tr th {\n",
              "        vertical-align: top;\n",
              "    }\n",
              "\n",
              "    .dataframe thead th {\n",
              "        text-align: right;\n",
              "    }\n",
              "</style>\n",
              "<table border=\"1\" class=\"dataframe\">\n",
              "  <thead>\n",
              "    <tr style=\"text-align: right;\">\n",
              "      <th></th>\n",
              "      <th>0</th>\n",
              "      <th>1</th>\n",
              "      <th>2</th>\n",
              "      <th>3</th>\n",
              "      <th>4</th>\n",
              "      <th>5</th>\n",
              "      <th>6</th>\n",
              "      <th>7</th>\n",
              "      <th>8</th>\n",
              "      <th>9</th>\n",
              "      <th>...</th>\n",
              "      <th>1840</th>\n",
              "      <th>1841</th>\n",
              "      <th>1842</th>\n",
              "      <th>1843</th>\n",
              "      <th>1844</th>\n",
              "      <th>1845</th>\n",
              "      <th>1846</th>\n",
              "      <th>1847</th>\n",
              "      <th>1848</th>\n",
              "      <th>1849</th>\n",
              "    </tr>\n",
              "    <tr>\n",
              "      <th>target</th>\n",
              "      <th></th>\n",
              "      <th></th>\n",
              "      <th></th>\n",
              "      <th></th>\n",
              "      <th></th>\n",
              "      <th></th>\n",
              "      <th></th>\n",
              "      <th></th>\n",
              "      <th></th>\n",
              "      <th></th>\n",
              "      <th></th>\n",
              "      <th></th>\n",
              "      <th></th>\n",
              "      <th></th>\n",
              "      <th></th>\n",
              "      <th></th>\n",
              "      <th></th>\n",
              "      <th></th>\n",
              "      <th></th>\n",
              "      <th></th>\n",
              "      <th></th>\n",
              "    </tr>\n",
              "  </thead>\n",
              "  <tbody>\n",
              "    <tr>\n",
              "      <th>0</th>\n",
              "      <td>66</td>\n",
              "      <td>66</td>\n",
              "      <td>66</td>\n",
              "      <td>66</td>\n",
              "      <td>66</td>\n",
              "      <td>66</td>\n",
              "      <td>66</td>\n",
              "      <td>66</td>\n",
              "      <td>66</td>\n",
              "      <td>66</td>\n",
              "      <td>...</td>\n",
              "      <td>66</td>\n",
              "      <td>66</td>\n",
              "      <td>66</td>\n",
              "      <td>66</td>\n",
              "      <td>66</td>\n",
              "      <td>66</td>\n",
              "      <td>66</td>\n",
              "      <td>66</td>\n",
              "      <td>66</td>\n",
              "      <td>66</td>\n",
              "    </tr>\n",
              "    <tr>\n",
              "      <th>1</th>\n",
              "      <td>189</td>\n",
              "      <td>189</td>\n",
              "      <td>189</td>\n",
              "      <td>189</td>\n",
              "      <td>189</td>\n",
              "      <td>189</td>\n",
              "      <td>189</td>\n",
              "      <td>189</td>\n",
              "      <td>189</td>\n",
              "      <td>189</td>\n",
              "      <td>...</td>\n",
              "      <td>189</td>\n",
              "      <td>189</td>\n",
              "      <td>189</td>\n",
              "      <td>189</td>\n",
              "      <td>189</td>\n",
              "      <td>189</td>\n",
              "      <td>189</td>\n",
              "      <td>189</td>\n",
              "      <td>189</td>\n",
              "      <td>189</td>\n",
              "    </tr>\n",
              "    <tr>\n",
              "      <th>2</th>\n",
              "      <td>99</td>\n",
              "      <td>99</td>\n",
              "      <td>99</td>\n",
              "      <td>99</td>\n",
              "      <td>99</td>\n",
              "      <td>99</td>\n",
              "      <td>99</td>\n",
              "      <td>99</td>\n",
              "      <td>99</td>\n",
              "      <td>99</td>\n",
              "      <td>...</td>\n",
              "      <td>99</td>\n",
              "      <td>99</td>\n",
              "      <td>99</td>\n",
              "      <td>99</td>\n",
              "      <td>99</td>\n",
              "      <td>99</td>\n",
              "      <td>99</td>\n",
              "      <td>99</td>\n",
              "      <td>99</td>\n",
              "      <td>99</td>\n",
              "    </tr>\n",
              "    <tr>\n",
              "      <th>3</th>\n",
              "      <td>411</td>\n",
              "      <td>411</td>\n",
              "      <td>411</td>\n",
              "      <td>411</td>\n",
              "      <td>411</td>\n",
              "      <td>411</td>\n",
              "      <td>411</td>\n",
              "      <td>411</td>\n",
              "      <td>411</td>\n",
              "      <td>411</td>\n",
              "      <td>...</td>\n",
              "      <td>411</td>\n",
              "      <td>411</td>\n",
              "      <td>411</td>\n",
              "      <td>411</td>\n",
              "      <td>411</td>\n",
              "      <td>411</td>\n",
              "      <td>411</td>\n",
              "      <td>411</td>\n",
              "      <td>411</td>\n",
              "      <td>411</td>\n",
              "    </tr>\n",
              "    <tr>\n",
              "      <th>4</th>\n",
              "      <td>90</td>\n",
              "      <td>90</td>\n",
              "      <td>90</td>\n",
              "      <td>90</td>\n",
              "      <td>90</td>\n",
              "      <td>90</td>\n",
              "      <td>90</td>\n",
              "      <td>90</td>\n",
              "      <td>90</td>\n",
              "      <td>90</td>\n",
              "      <td>...</td>\n",
              "      <td>90</td>\n",
              "      <td>90</td>\n",
              "      <td>90</td>\n",
              "      <td>90</td>\n",
              "      <td>90</td>\n",
              "      <td>90</td>\n",
              "      <td>90</td>\n",
              "      <td>90</td>\n",
              "      <td>90</td>\n",
              "      <td>90</td>\n",
              "    </tr>\n",
              "    <tr>\n",
              "      <th>5</th>\n",
              "      <td>58</td>\n",
              "      <td>58</td>\n",
              "      <td>58</td>\n",
              "      <td>58</td>\n",
              "      <td>58</td>\n",
              "      <td>58</td>\n",
              "      <td>58</td>\n",
              "      <td>58</td>\n",
              "      <td>58</td>\n",
              "      <td>58</td>\n",
              "      <td>...</td>\n",
              "      <td>58</td>\n",
              "      <td>58</td>\n",
              "      <td>58</td>\n",
              "      <td>58</td>\n",
              "      <td>58</td>\n",
              "      <td>58</td>\n",
              "      <td>58</td>\n",
              "      <td>58</td>\n",
              "      <td>58</td>\n",
              "      <td>58</td>\n",
              "    </tr>\n",
              "    <tr>\n",
              "      <th>6</th>\n",
              "      <td>117</td>\n",
              "      <td>117</td>\n",
              "      <td>117</td>\n",
              "      <td>117</td>\n",
              "      <td>117</td>\n",
              "      <td>117</td>\n",
              "      <td>117</td>\n",
              "      <td>117</td>\n",
              "      <td>117</td>\n",
              "      <td>117</td>\n",
              "      <td>...</td>\n",
              "      <td>117</td>\n",
              "      <td>117</td>\n",
              "      <td>117</td>\n",
              "      <td>117</td>\n",
              "      <td>117</td>\n",
              "      <td>117</td>\n",
              "      <td>117</td>\n",
              "      <td>117</td>\n",
              "      <td>117</td>\n",
              "      <td>117</td>\n",
              "    </tr>\n",
              "  </tbody>\n",
              "</table>\n",
              "<p>7 rows × 1850 columns</p>\n",
              "</div>\n",
              "      <button class=\"colab-df-convert\" onclick=\"convertToInteractive('df-d5b8f744-84cc-40c0-add5-268c577a9d42')\"\n",
              "              title=\"Convert this dataframe to an interactive table.\"\n",
              "              style=\"display:none;\">\n",
              "        \n",
              "  <svg xmlns=\"http://www.w3.org/2000/svg\" height=\"24px\"viewBox=\"0 0 24 24\"\n",
              "       width=\"24px\">\n",
              "    <path d=\"M0 0h24v24H0V0z\" fill=\"none\"/>\n",
              "    <path d=\"M18.56 5.44l.94 2.06.94-2.06 2.06-.94-2.06-.94-.94-2.06-.94 2.06-2.06.94zm-11 1L8.5 8.5l.94-2.06 2.06-.94-2.06-.94L8.5 2.5l-.94 2.06-2.06.94zm10 10l.94 2.06.94-2.06 2.06-.94-2.06-.94-.94-2.06-.94 2.06-2.06.94z\"/><path d=\"M17.41 7.96l-1.37-1.37c-.4-.4-.92-.59-1.43-.59-.52 0-1.04.2-1.43.59L10.3 9.45l-7.72 7.72c-.78.78-.78 2.05 0 2.83L4 21.41c.39.39.9.59 1.41.59.51 0 1.02-.2 1.41-.59l7.78-7.78 2.81-2.81c.8-.78.8-2.07 0-2.86zM5.41 20L4 18.59l7.72-7.72 1.47 1.35L5.41 20z\"/>\n",
              "  </svg>\n",
              "      </button>\n",
              "      \n",
              "  <style>\n",
              "    .colab-df-container {\n",
              "      display:flex;\n",
              "      flex-wrap:wrap;\n",
              "      gap: 12px;\n",
              "    }\n",
              "\n",
              "    .colab-df-convert {\n",
              "      background-color: #E8F0FE;\n",
              "      border: none;\n",
              "      border-radius: 50%;\n",
              "      cursor: pointer;\n",
              "      display: none;\n",
              "      fill: #1967D2;\n",
              "      height: 32px;\n",
              "      padding: 0 0 0 0;\n",
              "      width: 32px;\n",
              "    }\n",
              "\n",
              "    .colab-df-convert:hover {\n",
              "      background-color: #E2EBFA;\n",
              "      box-shadow: 0px 1px 2px rgba(60, 64, 67, 0.3), 0px 1px 3px 1px rgba(60, 64, 67, 0.15);\n",
              "      fill: #174EA6;\n",
              "    }\n",
              "\n",
              "    [theme=dark] .colab-df-convert {\n",
              "      background-color: #3B4455;\n",
              "      fill: #D2E3FC;\n",
              "    }\n",
              "\n",
              "    [theme=dark] .colab-df-convert:hover {\n",
              "      background-color: #434B5C;\n",
              "      box-shadow: 0px 1px 3px 1px rgba(0, 0, 0, 0.15);\n",
              "      filter: drop-shadow(0px 1px 2px rgba(0, 0, 0, 0.3));\n",
              "      fill: #FFFFFF;\n",
              "    }\n",
              "  </style>\n",
              "\n",
              "      <script>\n",
              "        const buttonEl =\n",
              "          document.querySelector('#df-d5b8f744-84cc-40c0-add5-268c577a9d42 button.colab-df-convert');\n",
              "        buttonEl.style.display =\n",
              "          google.colab.kernel.accessAllowed ? 'block' : 'none';\n",
              "\n",
              "        async function convertToInteractive(key) {\n",
              "          const element = document.querySelector('#df-d5b8f744-84cc-40c0-add5-268c577a9d42');\n",
              "          const dataTable =\n",
              "            await google.colab.kernel.invokeFunction('convertToInteractive',\n",
              "                                                     [key], {});\n",
              "          if (!dataTable) return;\n",
              "\n",
              "          const docLinkHtml = 'Like what you see? Visit the ' +\n",
              "            '<a target=\"_blank\" href=https://colab.research.google.com/notebooks/data_table.ipynb>data table notebook</a>'\n",
              "            + ' to learn more about interactive tables.';\n",
              "          element.innerHTML = '';\n",
              "          dataTable['output_type'] = 'display_data';\n",
              "          await google.colab.output.renderOutput(dataTable, element);\n",
              "          const docLink = document.createElement('div');\n",
              "          docLink.innerHTML = docLinkHtml;\n",
              "          element.appendChild(docLink);\n",
              "        }\n",
              "      </script>\n",
              "    </div>\n",
              "  </div>\n",
              "  "
            ]
          },
          "metadata": {},
          "execution_count": 7
        }
      ]
    },
    {
      "cell_type": "code",
      "source": [
        "df = pd.DataFrame(sample_faces)\n",
        "df['target'] = sample_ids\n",
        "\n",
        "sampled_df = df.groupby('target').apply(lambda x: x.sample(n=55, random_state=42) if len(x) > 55 else x).reset_index(drop=True)\n",
        "\n",
        "# Convert the sampled data back to numpy arrays\n",
        "X_sampled = sampled_df.drop(columns='target').values\n",
        "y_sampled = sampled_df['target'].values\n",
        "\n",
        "print(f\"Number of images: {len(X_sampled)}\")\n",
        "print(f\"Number of labels: {len(np.unique(y_sampled))}\")"
      ],
      "metadata": {
        "colab": {
          "base_uri": "https://localhost:8080/"
        },
        "id": "IVTw9OPbPyJY",
        "outputId": "7c4c49ed-c340-49eb-89c6-a2abff8295aa"
      },
      "execution_count": 8,
      "outputs": [
        {
          "output_type": "stream",
          "name": "stdout",
          "text": [
            "Number of images: 385\n",
            "Number of labels: 7\n"
          ]
        }
      ]
    },
    {
      "cell_type": "code",
      "source": [
        "sample_faces = X_sampled\n",
        "sample_ids = y_sampled"
      ],
      "metadata": {
        "id": "Y4pVcLp1M9vT"
      },
      "execution_count": 9,
      "outputs": []
    },
    {
      "cell_type": "code",
      "source": [
        "np.unique(sample_ids)"
      ],
      "metadata": {
        "colab": {
          "base_uri": "https://localhost:8080/"
        },
        "id": "R03q3JTh4rV6",
        "outputId": "611d6ca7-bc0e-4fa1-b542-34315d45e3fa"
      },
      "execution_count": 10,
      "outputs": [
        {
          "output_type": "execute_result",
          "data": {
            "text/plain": [
              "array([0, 1, 2, 3, 4, 5, 6])"
            ]
          },
          "metadata": {},
          "execution_count": 10
        }
      ]
    },
    {
      "cell_type": "code",
      "source": [
        "j = lfw_people.target_names\n",
        "print(j)"
      ],
      "metadata": {
        "colab": {
          "base_uri": "https://localhost:8080/"
        },
        "id": "H-FdTFIRKGNl",
        "outputId": "9b8486dd-9b79-4ccd-e7a9-9ba5d6f35185"
      },
      "execution_count": 11,
      "outputs": [
        {
          "output_type": "stream",
          "name": "stdout",
          "text": [
            "['Ariel Sharon' 'Colin Powell' 'Donald Rumsfeld' 'George W Bush'\n",
            " 'Gerhard Schroeder' 'Hugo Chavez' 'Tony Blair']\n"
          ]
        }
      ]
    },
    {
      "cell_type": "code",
      "execution_count": 12,
      "metadata": {
        "id": "7NbuvdleqNi5",
        "colab": {
          "base_uri": "https://localhost:8080/",
          "height": 1000
        },
        "outputId": "4be0db63-c817-4c0e-d8b8-a232fbe8b615"
      },
      "outputs": [
        {
          "output_type": "display_data",
          "data": {
            "text/plain": [
              "<Figure size 640x480 with 1 Axes>"
            ],
            "image/png": "[encoded data removed]"
          },
          "metadata": {}
        },
        {
          "output_type": "display_data",
          "data": {
            "text/plain": [
              "<Figure size 640x480 with 1 Axes>"
            ],
            "image/png": "[encoded data removed]"
          },
          "metadata": {}
        },
        {
          "output_type": "display_data",
          "data": {
            "text/plain": [
              "<Figure size 640x480 with 1 Axes>"
            ],
            "image/png": "[encoded data removed]"
          },
          "metadata": {}
        },
        {
          "output_type": "display_data",
          "data": {
            "text/plain": [
              "<Figure size 640x480 with 1 Axes>"
            ],
            "image/png": "[encoded data removed]"
          },
          "metadata": {}
        },
        {
          "output_type": "display_data",
          "data": {
            "text/plain": [
              "<Figure size 640x480 with 1 Axes>"
            ],
            "image/png": "[encoded data removed]"
          },
          "metadata": {}
        },
        {
          "output_type": "display_data",
          "data": {
            "text/plain": [
              "<Figure size 640x480 with 1 Axes>"
            ],
            "image/png": "[encoded data removed]"
          },
          "metadata": {}
        }
      ],
      "source": [
        "# calculate eigenfaces\n",
        "M1 = len(sample_faces)\n",
        "N = sample_faces.shape[1]\n",
        "m_face = np.mean(sample_faces, axis=0) # mean face\n",
        "fig = m_face.reshape((50,37))\n",
        "plt.imshow(fig, cmap=cm.gray)\n",
        "plt.show()\n",
        "N = sample_faces.shape[1]\n",
        "# compute matrix L\n",
        "Phi = np.zeros(sample_faces.shape)\n",
        "for i in range(M1):\n",
        "  Phi[i,:] = m_face\n",
        "AT = sample_faces - Phi\n",
        "A = np.transpose(AT)\n",
        "# we use SVD here\n",
        "w, s, vh = np.linalg.svd(A)\n",
        "M3 = 150\n",
        "eigvals = np.square(s[0:M3]) / M1\n",
        "eigvecs = np.transpose(w[:,0:M3])\n",
        "# form eigenfaces\n",
        "for eigface in eigvecs:\n",
        "  eigface_norm = np.linalg.norm(eigface)\n",
        "  eigface /= eigface_norm\n",
        "for eigface in eigvecs[:5]:\n",
        "  fig = eigface.reshape((50,37))\n",
        "  plt.imshow(fig, cmap=cm.gray)\n",
        "  plt.show()"
      ]
    },
    {
      "cell_type": "code",
      "source": [
        "# calculate class vectors\n",
        "all_people = []\n",
        "z = np.zeros(M1)\n",
        "for i in range(M1):\n",
        "  if z[i] == 0:\n",
        "    f = [face(sample_ids[i], sample_faces[i])]\n",
        "    P = person(sample_ids[i], f, [])\n",
        "    ID = sample_ids[i]\n",
        "    for j in range(i+1, M1):\n",
        "      if ID == sample_ids[j]:\n",
        "        P.faces.append(face(sample_ids[j], sample_faces[j]))\n",
        "        z[j] = 1\n",
        "    all_people.append(P)\n",
        "for P in all_people:\n",
        "  omega = np.zeros(M3)\n",
        "  for face in P.faces:\n",
        "    for k in range(M3):\n",
        "      omega[k] = omega[k] + np.matmul(eigvecs[k], face.pixels-m_face)\n",
        "  omega = omega / len(P.faces)\n",
        "  P.omega = omega / np.linalg.norm(omega)"
      ],
      "metadata": {
        "id": "CiouPwHWf0oP"
      },
      "execution_count": 13,
      "outputs": []
    },
    {
      "cell_type": "code",
      "source": [
        "for i, p in enumerate(all_people):\n",
        "  print(i, \"th person is\", p.ID, p.faces[10].ID)"
      ],
      "metadata": {
        "colab": {
          "base_uri": "https://localhost:8080/"
        },
        "id": "rq701fksETku",
        "outputId": "be01ec96-b233-4b64-bd52-3f2766fb087f"
      },
      "execution_count": 14,
      "outputs": [
        {
          "output_type": "stream",
          "name": "stdout",
          "text": [
            "0 th person is 0 0\n",
            "1 th person is 1 1\n",
            "2 th person is 2 2\n",
            "3 th person is 3 3\n",
            "4 th person is 4 4\n",
            "5 th person is 5 5\n",
            "6 th person is 6 6\n"
          ]
        }
      ]
    },
    {
      "cell_type": "code",
      "execution_count": 15,
      "metadata": {
        "id": "eDcka_RaWaQq"
      },
      "outputs": [],
      "source": [
        "# classify unknown faces\n",
        "# calculate omegas\n",
        "unknown_omegas = []\n",
        "for face in test_faces:\n",
        "  omega = np.zeros(M3)\n",
        "  for k in range(M3):\n",
        "    omega[k] = np.matmul(eigvecs[k], face-m_face)\n",
        "  unknown_omegas.append(omega / np.linalg.norm(omega))"
      ]
    },
    {
      "cell_type": "code",
      "execution_count": 16,
      "metadata": {
        "id": "qCduRQfAXoXS",
        "colab": {
          "base_uri": "https://localhost:8080/"
        },
        "outputId": "af9ac758-e69d-4517-f869-9d77aec794fe"
      },
      "outputs": [
        {
          "output_type": "stream",
          "name": "stdout",
          "text": [
            "3\n"
          ]
        }
      ],
      "source": [
        "# calculate distances between omegas\n",
        "correct = 0\n",
        "c = []\n",
        "pred = []\n",
        "for i in range(len(unknown_omegas)):\n",
        "  u = unknown_omegas[i].flatten()\n",
        "  dist = []\n",
        "  for P in all_people:\n",
        "    d = np.linalg.norm(u-P.omega.flatten())\n",
        "    dist.append(d)\n",
        "  d_min = np.amin(dist)\n",
        "  d_argmin = np.argmin(dist)\n",
        "  pred.append(all_people[d_argmin].ID)\n",
        "  if all_people[d_argmin].ID == test_ids[i]:\n",
        "    correct = correct + 1\n",
        "    c.append(i)\n",
        "  if i == 184:\n",
        "    print(all_people[d_argmin].ID)\n",
        "accuracy = correct / len(unknown_omegas)"
      ]
    },
    {
      "cell_type": "code",
      "source": [
        "correct, len(unknown_omegas)"
      ],
      "metadata": {
        "colab": {
          "base_uri": "https://localhost:8080/"
        },
        "id": "cgBy8_QxF-zg",
        "outputId": "45e33b49-c7a6-42fb-97e4-87b8bd326f91"
      },
      "execution_count": 17,
      "outputs": [
        {
          "output_type": "execute_result",
          "data": {
            "text/plain": [
              "(130, 258)"
            ]
          },
          "metadata": {},
          "execution_count": 17
        }
      ]
    },
    {
      "cell_type": "code",
      "source": [
        "print(accuracy)\n",
        "print(c)"
      ],
      "metadata": {
        "colab": {
          "base_uri": "https://localhost:8080/"
        },
        "id": "mwmfB0W84YOD",
        "outputId": "9c20d443-23b3-45a6-dec9-5c4ef1022f4d"
      },
      "execution_count": 18,
      "outputs": [
        {
          "output_type": "stream",
          "name": "stdout",
          "text": [
            "0.5038759689922481\n",
            "[1, 6, 8, 10, 12, 13, 14, 15, 17, 18, 19, 20, 24, 25, 27, 28, 32, 35, 36, 38, 41, 42, 44, 45, 46, 47, 50, 51, 53, 54, 55, 56, 58, 59, 60, 62, 65, 67, 71, 73, 74, 75, 78, 79, 80, 82, 83, 84, 89, 90, 91, 92, 96, 97, 98, 99, 102, 103, 106, 107, 110, 114, 118, 120, 121, 123, 124, 125, 131, 132, 140, 142, 143, 144, 145, 147, 151, 154, 155, 157, 160, 162, 163, 164, 166, 167, 171, 173, 174, 177, 178, 179, 180, 181, 184, 185, 186, 187, 188, 189, 191, 193, 195, 198, 199, 201, 203, 205, 206, 207, 211, 212, 213, 216, 218, 219, 221, 227, 229, 230, 233, 237, 240, 241, 242, 244, 245, 248, 250, 251]\n"
          ]
        }
      ]
    },
    {
      "cell_type": "code",
      "source": [
        "len(pred) == len(test_ids)"
      ],
      "metadata": {
        "colab": {
          "base_uri": "https://localhost:8080/"
        },
        "id": "fbDWHD-QDi1N",
        "outputId": "0545e202-bec2-4e82-e2b0-1729d74e91d1"
      },
      "execution_count": 19,
      "outputs": [
        {
          "output_type": "execute_result",
          "data": {
            "text/plain": [
              "True"
            ]
          },
          "metadata": {},
          "execution_count": 19
        }
      ]
    },
    {
      "cell_type": "code",
      "source": [
        "for i, name in enumerate(lfw_people.target_names):\n",
        "  print(\"Info for\", name, \"(ids =\", i, \")\")\n",
        "  correctLabel = 0\n",
        "  total = 0\n",
        "  for t in test_ids:\n",
        "    if t == i:\n",
        "      total += 1\n",
        "  for id in c:\n",
        "    if test_ids[id] == i:\n",
        "      correctLabel += 1\n",
        "  print(correctLabel)\n",
        "  print(total)\n",
        "  print(\"ratio\", correctLabel/total)\n"
      ],
      "metadata": {
        "colab": {
          "base_uri": "https://localhost:8080/"
        },
        "id": "vUdApR2CHB40",
        "outputId": "460cb39a-df83-4e94-d1f4-5a2ca9bb1de2"
      },
      "execution_count": 20,
      "outputs": [
        {
          "output_type": "stream",
          "name": "stdout",
          "text": [
            "Info for Ariel Sharon (ids = 0 )\n",
            "6\n",
            "11\n",
            "ratio 0.5454545454545454\n",
            "Info for Colin Powell (ids = 1 )\n",
            "20\n",
            "47\n",
            "ratio 0.425531914893617\n",
            "Info for Donald Rumsfeld (ids = 2 )\n",
            "12\n",
            "22\n",
            "ratio 0.5454545454545454\n",
            "Info for George W Bush (ids = 3 )\n",
            "61\n",
            "119\n",
            "ratio 0.5126050420168067\n",
            "Info for Gerhard Schroeder (ids = 4 )\n",
            "12\n",
            "19\n",
            "ratio 0.631578947368421\n",
            "Info for Hugo Chavez (ids = 5 )\n",
            "8\n",
            "13\n",
            "ratio 0.6153846153846154\n",
            "Info for Tony Blair (ids = 6 )\n",
            "11\n",
            "27\n",
            "ratio 0.4074074074074074\n"
          ]
        }
      ]
    },
    {
      "cell_type": "code",
      "source": [
        "###\n",
        "print(\"Info for Sharon (ids=0)\")\n",
        "correctSharon = 0\n",
        "totalSharon = 0\n",
        "for j in test_ids:\n",
        "  if j == 0:\n",
        "    totalSharon += 1\n",
        "for i in c:\n",
        "  if test_ids[i] == 0:\n",
        "    correctSharon += 1\n",
        "print(correctSharon)\n",
        "print(totalSharon)\n",
        "print(\"ratio\", correctSharon/totalSharon)\n",
        "\n",
        "###\n",
        "print(\"Info for Powell (ids=1)\")\n",
        "correctPowell = 0\n",
        "totalPowell = 0\n",
        "for j in test_ids:\n",
        "  if j == 1:\n",
        "    totalPowell += 1\n",
        "for i in c:\n",
        "  if test_ids[i] == 1:\n",
        "    correctPowell += 1\n",
        "print(correctPowell)\n",
        "print(totalPowell)\n",
        "print(\"ratio\", correctPowell/totalPowell)\n",
        "\n",
        "###\n",
        "print(\"Info for Rumsfeld (ids=2)\")\n",
        "correctRumsfeld = 0\n",
        "totalRumsfeld = 0\n",
        "for j in test_ids:\n",
        "  if j == 2:\n",
        "    totalRumsfeld += 1\n",
        "for i in c:\n",
        "  if test_ids[i] == 2:\n",
        "    correctRumsfeld += 1\n",
        "print(correctRumsfeld)\n",
        "print(totalRumsfeld)\n",
        "print(\"ratio\", correctRumsfeld/totalRumsfeld)\n",
        "\n",
        "###\n",
        "print(\"Info for Bush (ids=3)\")\n",
        "correctBush = 0\n",
        "totalBush = 0\n",
        "for j in test_ids:\n",
        "  if j == 3:\n",
        "    totalBush += 1\n",
        "for i in c:\n",
        "  if test_ids[i] == 3:\n",
        "    correctBush += 1\n",
        "print(correctBush)\n",
        "print(totalBush)\n",
        "print(\"ratio\", correctBush/totalBush)\n",
        "\n",
        "\n",
        "###\n",
        "print(\"Info for Schroder (ids=4)\")\n",
        "correctSchroeder = 0\n",
        "totalSchroeder = 0\n",
        "for j in test_ids:\n",
        "  if j == 4:\n",
        "    totalSchroeder += 1\n",
        "for i in c:\n",
        "  if test_ids[i] == 4:\n",
        "    correctSchroeder += 1\n",
        "print(correctSchroeder)\n",
        "print(totalSchroeder)\n",
        "print(\"ratio\", correctSchroeder/totalSchroeder)\n",
        "\n",
        "\n",
        "###\n",
        "print(\"Info for Chaves (ids=5)\")\n",
        "correctChavez = 0\n",
        "totalChavez = 0\n",
        "for j in test_ids:\n",
        "  if j == 5:\n",
        "    totalChavez += 1\n",
        "for i in c:\n",
        "  if test_ids[i] == 5:\n",
        "    correctChavez += 1\n",
        "print(correctChavez)\n",
        "print(totalChavez)\n",
        "print(\"ratio\", correctChavez/totalChavez)\n",
        "\n",
        "\n",
        "###\n",
        "print(\"Info for Blair (ids=6)\")\n",
        "correctBlair = 0\n",
        "totalBlair = 0\n",
        "for j in test_ids:\n",
        "  if j == 6:\n",
        "    totalBlair += 1\n",
        "for i in c:\n",
        "  if test_ids[i] == 6:\n",
        "    correctBlair += 1\n",
        "print(correctBlair)\n",
        "print(totalBlair)\n",
        "print(\"ratio\", correctBlair/totalBlair)"
      ],
      "metadata": {
        "colab": {
          "base_uri": "https://localhost:8080/"
        },
        "id": "NiVR68ZJCFN_",
        "outputId": "4543b099-a6a6-44e5-f007-6e4b25ecd70e"
      },
      "execution_count": 21,
      "outputs": [
        {
          "output_type": "stream",
          "name": "stdout",
          "text": [
            "Info for Sharon (ids=0)\n",
            "6\n",
            "11\n",
            "ratio 0.5454545454545454\n",
            "Info for Powell (ids=1)\n",
            "20\n",
            "47\n",
            "ratio 0.425531914893617\n",
            "Info for Rumsfeld (ids=2)\n",
            "12\n",
            "22\n",
            "ratio 0.5454545454545454\n",
            "Info for Bush (ids=3)\n",
            "61\n",
            "119\n",
            "ratio 0.5126050420168067\n",
            "Info for Schroder (ids=4)\n",
            "12\n",
            "19\n",
            "ratio 0.631578947368421\n",
            "Info for Chaves (ids=5)\n",
            "8\n",
            "13\n",
            "ratio 0.6153846153846154\n",
            "Info for Blair (ids=6)\n",
            "11\n",
            "27\n",
            "ratio 0.4074074074074074\n"
          ]
        }
      ]
    },
    {
      "cell_type": "code",
      "source": [
        "f = test_faces[184]\n",
        "fig = f.reshape((50,37))\n",
        "plt.imshow(fig, cmap=cm.gray)\n",
        "plt.show()\n",
        "j = lfw_people.target_names\n",
        "print(j)\n",
        "print(test_ids[184])"
      ],
      "metadata": {
        "id": "dMYXdZhxXDqJ",
        "colab": {
          "base_uri": "https://localhost:8080/",
          "height": 486
        },
        "outputId": "2ffd4ef3-9646-42ca-9d98-5fe788b7b8ac"
      },
      "execution_count": 22,
      "outputs": [
        {
          "output_type": "display_data",
          "data": {
            "text/plain": [
              "<Figure size 640x480 with 1 Axes>"
            ],
            "image/png": "[encoded data removed]"
          },
          "metadata": {}
        },
        {
          "output_type": "stream",
          "name": "stdout",
          "text": [
            "['Ariel Sharon' 'Colin Powell' 'Donald Rumsfeld' 'George W Bush'\n",
            " 'Gerhard Schroeder' 'Hugo Chavez' 'Tony Blair']\n",
            "3\n"
          ]
        }
      ]
    }
  ]
}